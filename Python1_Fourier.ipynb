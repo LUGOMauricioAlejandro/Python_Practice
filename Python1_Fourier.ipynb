{
 "cells": [
  {
   "cell_type": "markdown",
   "id": "802bf730",
   "metadata": {},
   "source": [
    "# Transformada de Fourier (FFT: Fast Fourier Transform)"
   ]
  },
  {
   "cell_type": "markdown",
   "id": "00e64db9",
   "metadata": {},
   "source": [
    "Teniendo en cuenta los concepto previso de la transición de una función periódica a una no periódica puede efectuarse permitiendo que el período se aproxime a infinito. En otras palabras, a medida que T se hace infinito, la función nunca se repite , por ello, se vuelve aperiódica. Así que la serie de Fourier se reduce a:\n",
    "\\begin{align*}\n",
    "f(t) &=  \\int \\limits_{- \\infty }^{\\infty} F(\\omega ) \\cdot e^{i \\cdot \\omega \\cdot t } \\cdot d \\omega \\\\\n",
    "\\\\\n",
    "F(\\omega) & =  \\int \\limits_{- \\infty }^{\\infty} f(t) \\cdot e^{-i \\cdot \\omega \\cdot t}  \\cdot dt  \n",
    "\\end{align*}\n",
    "\n",
    "La forma discreta del método de la transformada de Fourier\n",
    "\n",
    "\\begin{align*}\n",
    "F_{k} &= \\sum \\limits_{j=0}^{n-1} f_{j} e^{-ik\\omega_{0} j}; \\hspace{2cm} for \\ \\ \\mathbf{\\it{k}}=0 \\ \\ to \\ \\  n-1 \\\\\n",
    "\\end{align*}\n",
    "y la inversa de la tranformada de Fourier:\n",
    "\\begin{align*}\n",
    "f_{j} &= \\dfrac{1}{n} \\cdot  \\sum \\limits_{j=0}^{n-1} F_{j} e^{-ik\\omega_{0} j}; \\hspace{2cm} for \\ \\ \\mathbf{\\it{j}}=0 \\ \\ to \\ \\  n-1 \\\\\n",
    "\\end{align*}\n"
   ]
  },
  {
   "cell_type": "markdown",
   "id": "8c9fc6be",
   "metadata": {},
   "source": [
    "$\\textbf{Problem:}$ Representar mediante la transformada discreta de Fourier,la función:\n",
    "\\begin{align*}\n",
    "f(t) = 21 + \\cos(2 \\cdot \\pi \\cdot 10.5 \\cdot t) + \\sin(2 \\cdot \\pi \\cdot 12.75 \\cdot t)\n",
    "\\end{align*}"
   ]
  },
  {
   "cell_type": "code",
   "execution_count": 2,
   "id": "0cf2e467",
   "metadata": {},
   "outputs": [],
   "source": [
    "import numpy as np\n",
    "import matplotlib.pyplot as plt\n",
    "from scipy.fft import fft"
   ]
  },
  {
   "cell_type": "code",
   "execution_count": 9,
   "id": "b6b27215",
   "metadata": {},
   "outputs": [],
   "source": [
    "# Haciendo el cómputo de la serie de tiempo\n",
    "n = 8; dt= 0.01; fs = 1/dt; T=0.2\n",
    "tspan = np.arange(0,n)/fs\n",
    "y = 21 + np.cos(4*np.pi*10.5*tspan) + np.sin(4*np.pi*12.75*tspan) "
   ]
  },
  {
   "cell_type": "code",
   "execution_count": 10,
   "id": "5646721f",
   "metadata": {},
   "outputs": [
    {
     "data": {
      "text/plain": [
       "Text(0.5, 0, 'a) f(t) vs. time (s)')"
      ]
     },
     "execution_count": 10,
     "metadata": {},
     "output_type": "execute_result"
    },
    {
     "data": {
      "image/png": "[encoded data removed]",
      "text/plain": [
       "<Figure size 432x288 with 1 Axes>"
      ]
     },
     "metadata": {
      "needs_background": "light"
     },
     "output_type": "display_data"
    }
   ],
   "source": [
    "# plotin de la figura\n",
    "fig = plt.figure() \n",
    "ax1 = fig.add_subplot(211)\n",
    "fig.subplots_adjust(hspace=0.5)\n",
    "ax1.plot(tspan, y, c='orange',marker='*')\n",
    "ax1.grid()\n",
    "ax1.set_xlabel('a) f(t) vs. time (s)') "
   ]
  },
  {
   "cell_type": "code",
   "execution_count": null,
   "id": "65853992",
   "metadata": {},
   "outputs": [],
   "source": []
  }
 ],
 "metadata": {
  "kernelspec": {
   "display_name": "Python 3 (ipykernel)",
   "language": "python",
   "name": "python3"
  },
  "language_info": {
   "codemirror_mode": {
    "name": "ipython",
    "version": 3
   },
   "file_extension": ".py",
   "mimetype": "text/x-python",
   "name": "python",
   "nbconvert_exporter": "python",
   "pygments_lexer": "ipython3",
   "version": "3.9.12"
  },
  "toc": {
   "base_numbering": 1,
   "nav_menu": {},
   "number_sections": true,
   "sideBar": true,
   "skip_h1_title": false,
   "title_cell": "Table of Contents",
   "title_sidebar": "Contents",
   "toc_cell": false,
   "toc_position": {},
   "toc_section_display": true,
   "toc_window_display": false
  }
 },
 "nbformat": 4,
 "nbformat_minor": 5
}
