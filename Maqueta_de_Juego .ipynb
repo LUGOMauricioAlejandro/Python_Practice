{
 "cells": [
  {
   "cell_type": "code",
   "execution_count": 1,
   "id": "d4ef3abe",
   "metadata": {},
   "outputs": [
    {
     "name": "stdout",
     "output_type": "stream",
     "text": [
      "pygame 2.1.3 (SDL 2.0.22, Python 3.9.16)\n",
      "Hello from the pygame community. https://www.pygame.org/contribute.html\n"
     ]
    }
   ],
   "source": [
    "import pygame\n",
    "import random "
   ]
  },
  {
   "cell_type": "code",
   "execution_count": 2,
   "id": "2b4e748f",
   "metadata": {},
   "outputs": [
    {
     "name": "stderr",
     "output_type": "stream",
     "text": [
      "ALSA lib pcm_dmix.c:1075:(snd_pcm_dmix_open) unable to open slave\n"
     ]
    }
   ],
   "source": [
    "#Inicia Pygame\n",
    "pygame.init()\n",
    "\n",
    "#Describe las dimensiones de la pantalla\n",
    "screen = pygame.display.set_mode((800,600))\n",
    "#Titulo de la ventana\n",
    "pygame.display.set_caption(\"Maqueta de Juego\")\n",
    "#Carga de la imagen\n",
    "ship_image = pygame.image.load(\".../OVNI.png\") #archivo de image\n",
    "#Obtener la posición rectangular de la imagen\n",
    "ship_rect = ship_image.get_rect() \n",
    "\n",
    "# Establece la posición inicial de la nave en la parte inferior central de la pantalla\n",
    "ship_rect.centerx = screen.get_rect().centerx\n",
    "ship_rect.bottom = screen.get_rect().bottom\n",
    "\n",
    "# Bucle principal del juego\n",
    "running = True\n",
    "while running:\n",
    "    # Maneja eventos de cierre de ventana\n",
    "    for event in pygame.event.get():\n",
    "        if event.type == pygame.QUIT:\n",
    "            running = False\n",
    "\n",
    "    # Actualiza la pantalla\n",
    "    screen.fill((0, 0, 0)) # llena la pantalla con color negro\n",
    "    screen.blit(ship_image, ship_rect)\n",
    "    pygame.display.update()\n",
    "\n",
    "# Cierra Pygame al finalizar el juego\n",
    "pygame.quit() "
   ]
  },
  {
   "cell_type": "code",
   "execution_count": null,
   "id": "eb0c054d",
   "metadata": {},
   "outputs": [],
   "source": []
  }
 ],
 "metadata": {
  "kernelspec": {
   "display_name": "Python 3 (ipykernel)",
   "language": "python",
   "name": "python3"
  },
  "language_info": {
   "codemirror_mode": {
    "name": "ipython",
    "version": 3
   },
   "file_extension": ".py",
   "mimetype": "text/x-python",
   "name": "python",
   "nbconvert_exporter": "python",
   "pygments_lexer": "ipython3",
   "version": "3.9.16"
  },
  "toc": {
   "base_numbering": 1,
   "nav_menu": {},
   "number_sections": true,
   "sideBar": true,
   "skip_h1_title": false,
   "title_cell": "Table of Contents",
   "title_sidebar": "Contents",
   "toc_cell": false,
   "toc_position": {},
   "toc_section_display": true,
   "toc_window_display": false
  }
 },
 "nbformat": 4,
 "nbformat_minor": 5
}
